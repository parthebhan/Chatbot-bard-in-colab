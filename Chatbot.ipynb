{
  "nbformat": 4,
  "nbformat_minor": 0,
  "metadata": {
    "colab": {
      "provenance": []
    },
    "kernelspec": {
      "name": "python3",
      "display_name": "Python 3"
    },
    "language_info": {
      "name": "python"
    },
    "widgets": {
      "application/vnd.jupyter.widget-state+json": {
        "4750171347bb46758a32228771b2ae95": {
          "model_module": "@jupyter-widgets/controls",
          "model_name": "TextareaModel",
          "model_module_version": "1.5.0",
          "state": {
            "_dom_classes": [],
            "_model_module": "@jupyter-widgets/controls",
            "_model_module_version": "1.5.0",
            "_model_name": "TextareaModel",
            "_view_count": null,
            "_view_module": "@jupyter-widgets/controls",
            "_view_module_version": "1.5.0",
            "_view_name": "TextareaView",
            "continuous_update": true,
            "description": "",
            "description_tooltip": null,
            "disabled": false,
            "layout": "IPY_MODEL_cbe7dd4014ca4cd3987c5d86a8650b3f",
            "placeholder": "Enter your Query here...",
            "rows": 5,
            "style": "IPY_MODEL_11acec1a3ca8453c85de8d857674ce42",
            "value": ""
          }
        },
        "cbe7dd4014ca4cd3987c5d86a8650b3f": {
          "model_module": "@jupyter-widgets/base",
          "model_name": "LayoutModel",
          "model_module_version": "1.2.0",
          "state": {
            "_model_module": "@jupyter-widgets/base",
            "_model_module_version": "1.2.0",
            "_model_name": "LayoutModel",
            "_view_count": null,
            "_view_module": "@jupyter-widgets/base",
            "_view_module_version": "1.2.0",
            "_view_name": "LayoutView",
            "align_content": null,
            "align_items": null,
            "align_self": null,
            "border": null,
            "bottom": null,
            "display": null,
            "flex": null,
            "flex_flow": null,
            "grid_area": null,
            "grid_auto_columns": null,
            "grid_auto_flow": null,
            "grid_auto_rows": null,
            "grid_column": null,
            "grid_gap": null,
            "grid_row": null,
            "grid_template_areas": null,
            "grid_template_columns": null,
            "grid_template_rows": null,
            "height": null,
            "justify_content": null,
            "justify_items": null,
            "left": null,
            "margin": null,
            "max_height": null,
            "max_width": null,
            "min_height": null,
            "min_width": null,
            "object_fit": null,
            "object_position": null,
            "order": null,
            "overflow": null,
            "overflow_x": null,
            "overflow_y": null,
            "padding": null,
            "right": null,
            "top": null,
            "visibility": null,
            "width": null
          }
        },
        "11acec1a3ca8453c85de8d857674ce42": {
          "model_module": "@jupyter-widgets/controls",
          "model_name": "DescriptionStyleModel",
          "model_module_version": "1.5.0",
          "state": {
            "_model_module": "@jupyter-widgets/controls",
            "_model_module_version": "1.5.0",
            "_model_name": "DescriptionStyleModel",
            "_view_count": null,
            "_view_module": "@jupyter-widgets/base",
            "_view_module_version": "1.2.0",
            "_view_name": "StyleView",
            "description_width": ""
          }
        },
        "91ba23c036b24f74992821658537644e": {
          "model_module": "@jupyter-widgets/controls",
          "model_name": "ButtonModel",
          "model_module_version": "1.5.0",
          "state": {
            "_dom_classes": [],
            "_model_module": "@jupyter-widgets/controls",
            "_model_module_version": "1.5.0",
            "_model_name": "ButtonModel",
            "_view_count": null,
            "_view_module": "@jupyter-widgets/controls",
            "_view_module_version": "1.5.0",
            "_view_name": "ButtonView",
            "button_style": "",
            "description": "Submit!",
            "disabled": false,
            "icon": "",
            "layout": "IPY_MODEL_ae1eaf9f67d94e3cbe40373ec11598c8",
            "style": "IPY_MODEL_3c9802fdffc24168ac0100de3cf6cdca",
            "tooltip": ""
          }
        },
        "ae1eaf9f67d94e3cbe40373ec11598c8": {
          "model_module": "@jupyter-widgets/base",
          "model_name": "LayoutModel",
          "model_module_version": "1.2.0",
          "state": {
            "_model_module": "@jupyter-widgets/base",
            "_model_module_version": "1.2.0",
            "_model_name": "LayoutModel",
            "_view_count": null,
            "_view_module": "@jupyter-widgets/base",
            "_view_module_version": "1.2.0",
            "_view_name": "LayoutView",
            "align_content": null,
            "align_items": null,
            "align_self": null,
            "border": null,
            "bottom": null,
            "display": null,
            "flex": null,
            "flex_flow": null,
            "grid_area": null,
            "grid_auto_columns": null,
            "grid_auto_flow": null,
            "grid_auto_rows": null,
            "grid_column": null,
            "grid_gap": null,
            "grid_row": null,
            "grid_template_areas": null,
            "grid_template_columns": null,
            "grid_template_rows": null,
            "height": null,
            "justify_content": null,
            "justify_items": null,
            "left": null,
            "margin": null,
            "max_height": null,
            "max_width": null,
            "min_height": null,
            "min_width": null,
            "object_fit": null,
            "object_position": null,
            "order": null,
            "overflow": null,
            "overflow_x": null,
            "overflow_y": null,
            "padding": null,
            "right": null,
            "top": null,
            "visibility": null,
            "width": null
          }
        },
        "3c9802fdffc24168ac0100de3cf6cdca": {
          "model_module": "@jupyter-widgets/controls",
          "model_name": "ButtonStyleModel",
          "model_module_version": "1.5.0",
          "state": {
            "_model_module": "@jupyter-widgets/controls",
            "_model_module_version": "1.5.0",
            "_model_name": "ButtonStyleModel",
            "_view_count": null,
            "_view_module": "@jupyter-widgets/base",
            "_view_module_version": "1.2.0",
            "_view_name": "StyleView",
            "button_color": null,
            "font_weight": ""
          }
        },
        "259d8cb4f1f14f4491c3805efb618b26": {
          "model_module": "@jupyter-widgets/output",
          "model_name": "OutputModel",
          "model_module_version": "1.0.0",
          "state": {
            "_dom_classes": [],
            "_model_module": "@jupyter-widgets/output",
            "_model_module_version": "1.0.0",
            "_model_name": "OutputModel",
            "_view_count": null,
            "_view_module": "@jupyter-widgets/output",
            "_view_module_version": "1.0.0",
            "_view_name": "OutputView",
            "layout": "IPY_MODEL_715c329eb27541dea70a38236cd9deaf",
            "msg_id": "",
            "outputs": [
              {
                "output_type": "display_data",
                "data": {
                  "text/plain": "<IPython.core.display.HTML object>",
                  "text/html": "<br><strong>Query:    </strong>what is google\n"
                },
                "metadata": {}
              },
              {
                "output_type": "display_data",
                "data": {
                  "text/plain": "<IPython.core.display.HTML object>",
                  "text/html": "<br><strong>Response:    </strong>## What is Google? \n\nGoogle, at its core, is a **technology company** that has grown to become an integral part of many people's daily lives. While it started as a simple search engine, Google's reach has expanded exponentially, encompassing a vast ecosystem of products and services.  To understand \"What is Google?\" we need to explore its multifaceted nature:\n\n**1. The Search Engine Giant:**\n\nAt its heart, Google is the **world's most popular search engine**.  When you need to find information online, chances are you \"Google it.\"  This dominance stems from Google's powerful algorithms, constantly refined over decades, that crawl, index, and rank web pages based on relevance and authority. \n\n**Here's how Google Search works:**\n\n* **Crawling:** Google uses automated software called \"crawlers\" or \"spiders\" to explore the vast network of web pages, following links to discover new content.\n* **Indexing:** As crawlers discover web pages, Google analyzes and stores information about them in its index, a massive database that acts like a library catalog for the web. \n* **Ranking:**  When you enter a query, Google's algorithms sift through its index to identify the most relevant and authoritative results based on hundreds of factors, including keywords, website quality, user location, and search history. \n\n**2. Beyond Search: A Multifaceted Ecosystem:**\n\nWhile Search remains its flagship product, Google has evolved into a technological behemoth offering a diverse range of products and services:\n\n* **Communication and Collaboration:**\n    * **Gmail:** A free email service known for its user-friendly interface, generous storage space, and powerful spam filters. \n    * **Google Meet:**  A video conferencing platform enabling real-time communication for meetings, webinars, and online events. \n    * **Google Chat:**  A messaging service for individuals and teams, allowing for seamless communication and collaboration within organizations.\n* **Productivity and Organization:**\n    * **Google Docs, Sheets, and Slides:**  Web-based applications offering collaborative document editing, spreadsheet management, and presentation creation, all accessible from any device with an internet connection.\n    * **Google Drive:**  A cloud storage service allowing users to store, share, and synchronize files across multiple devices. \n    * **Google Calendar:**  A digital calendar that helps individuals and teams schedule events, set reminders, and manage appointments efficiently.\n* **Mobile Operating System and Devices:**\n    * **Android:**  The world's most popular mobile operating system, powering billions of smartphones and tablets worldwide. Developed by Google, Android provides an open-source platform for manufacturers to customize and create their own versions of the operating system.\n    * **Pixel Phones:**  Google's own line of smartphones, designed to showcase the capabilities of the Android operating system and Google's software innovations. \n* **Web Browsing and Extensions:**\n    * **Chrome:** Google's web browser, known for its speed, security, and vast library of extensions that enhance browsing functionality. \n* **Mapping and Navigation:**\n    * **Google Maps:**  A comprehensive mapping service providing detailed maps, satellite imagery, real-time traffic updates, and turn-by-turn navigation for drivers, cyclists, and pedestrians.\n* **Artificial Intelligence (AI) and Machine Learning:**\n    * **Google Assistant:**  A voice-activated personal assistant integrated into various devices, allowing users to interact with their devices, access information, and control smart home appliances using voice commands.\n    * **Google Cloud AI:**  A suite of cloud-based AI and machine learning tools and services empowering businesses to build and deploy AI-powered applications. \n* **Entertainment and Content:**\n    * **YouTube:**  The world's largest video-sharing platform, acquired by Google in 2006, offering a vast library of videos, music, live streams, and original content.\n    * **Google Play Store:** An online marketplace for Android apps, games, music, movies, books, and more, serving as a central hub for accessing digital content on Android devices.\n\n**3. Advertising Powerhouse:**\n\nGoogle's immense revenue stream primarily originates from advertising. Its advertising platform, **Google Ads**, connects businesses with their target audiences across its vast network:\n\n* **Search Ads:**  These ads appear alongside search results, targeting users actively searching for specific keywords related to a business's products or services.\n* **Display Ads:**  Visual ads displayed on websites, mobile apps, and YouTube videos, reaching users while they browse content within Google's network. \n* **Video Ads:**  Engaging video advertisements played before, during, or after YouTube videos, capturing user attention through visual storytelling.\n\nBy leveraging its vast user data and sophisticated targeting capabilities, Google Ads empowers businesses of all sizes to reach their desired audience with precision and effectiveness. \n\n**4.  A Culture of Innovation:**\n\nGoogle has cultivated a corporate culture that prioritizes **innovation** and encourages **experimentation**: \n\n* **\"20% Time\":** Google encourages its employees to dedicate 20% of their work time to pursue personal projects and explore new ideas, fostering a spirit of creativity and entrepreneurship.  This policy has led to the development of successful products like Gmail and Google News.\n* **Acquisitions and Investments:** Google strategically acquires promising startups and invests in cutting-edge technologies, constantly expanding its portfolio and exploring new frontiers in the tech industry. \n\n**5. Impact and Influence:**\n\nGoogle's influence extends far beyond the realm of technology:\n\n* **Information Access and Dissemination:**  Google Search has democratized access to information, making knowledge readily available to billions of people worldwide. \n* **Economic Impact:**  Google's advertising platform has revolutionized marketing, empowering businesses to reach their target audiences more effectively and fueling economic growth.\n* **Social Connectivity:**  Google's communication and social platforms, such as Gmail, YouTube, and Android, have fostered global connectivity, facilitating communication and collaboration on an unprecedented scale.\n\n**In conclusion, Google is more than just a search engine; it's a technological ecosystem that permeates numerous aspects of modern life.**  From communication and productivity to entertainment and information access, Google's products and services have become indispensable tools for individuals, businesses, and society as a whole.  With its unwavering focus on innovation and its vast resources, Google continues to shape the technological landscape and influence the future of how we live, work, and connect with the world around us."
                },
                "metadata": {}
              }
            ]
          }
        },
        "715c329eb27541dea70a38236cd9deaf": {
          "model_module": "@jupyter-widgets/base",
          "model_name": "LayoutModel",
          "model_module_version": "1.2.0",
          "state": {
            "_model_module": "@jupyter-widgets/base",
            "_model_module_version": "1.2.0",
            "_model_name": "LayoutModel",
            "_view_count": null,
            "_view_module": "@jupyter-widgets/base",
            "_view_module_version": "1.2.0",
            "_view_name": "LayoutView",
            "align_content": null,
            "align_items": null,
            "align_self": null,
            "border": null,
            "bottom": null,
            "display": null,
            "flex": null,
            "flex_flow": null,
            "grid_area": null,
            "grid_auto_columns": null,
            "grid_auto_flow": null,
            "grid_auto_rows": null,
            "grid_column": null,
            "grid_gap": null,
            "grid_row": null,
            "grid_template_areas": null,
            "grid_template_columns": null,
            "grid_template_rows": null,
            "height": null,
            "justify_content": null,
            "justify_items": null,
            "left": null,
            "margin": null,
            "max_height": null,
            "max_width": null,
            "min_height": null,
            "min_width": null,
            "object_fit": null,
            "object_position": null,
            "order": null,
            "overflow": null,
            "overflow_x": null,
            "overflow_y": null,
            "padding": null,
            "right": null,
            "top": null,
            "visibility": null,
            "width": null
          }
        }
      }
    }
  },
  "cells": [
    {
      "cell_type": "code",
      "execution_count": 2,
      "metadata": {
        "colab": {
          "base_uri": "https://localhost:8080/",
          "height": 643,
          "referenced_widgets": [
            "4750171347bb46758a32228771b2ae95",
            "cbe7dd4014ca4cd3987c5d86a8650b3f",
            "11acec1a3ca8453c85de8d857674ce42",
            "91ba23c036b24f74992821658537644e",
            "ae1eaf9f67d94e3cbe40373ec11598c8",
            "3c9802fdffc24168ac0100de3cf6cdca",
            "259d8cb4f1f14f4491c3805efb618b26",
            "715c329eb27541dea70a38236cd9deaf"
          ]
        },
        "id": "W19rxd8wawan",
        "outputId": "bca34c58-ba99-4aee-a1a7-0ca2a6176cb5"
      },
      "outputs": [
        {
          "output_type": "display_data",
          "data": {
            "text/plain": [
              "Textarea(value='', placeholder='Enter your Query here...', rows=5)"
            ],
            "application/vnd.jupyter.widget-view+json": {
              "version_major": 2,
              "version_minor": 0,
              "model_id": "4750171347bb46758a32228771b2ae95"
            }
          },
          "metadata": {}
        },
        {
          "output_type": "display_data",
          "data": {
            "text/plain": [
              "Button(description='Submit!', style=ButtonStyle())"
            ],
            "application/vnd.jupyter.widget-view+json": {
              "version_major": 2,
              "version_minor": 0,
              "model_id": "91ba23c036b24f74992821658537644e"
            }
          },
          "metadata": {}
        },
        {
          "output_type": "display_data",
          "data": {
            "text/plain": [
              "Output()"
            ],
            "application/vnd.jupyter.widget-view+json": {
              "version_major": 2,
              "version_minor": 0,
              "model_id": "259d8cb4f1f14f4491c3805efb618b26"
            }
          },
          "metadata": {}
        }
      ],
      "source": [
        "import google.generativeai as genai\n",
        "\n",
        "import ipywidgets as widgets\n",
        "from IPython.display import display,HTML\n",
        "\n",
        "# Used to securely store your API key\n",
        "from google.colab import userdata\n",
        "\n",
        "GOOGLE_API_KEY=userdata.get('Bard-API') # `os.getenv('GOOGLE_API_KEY')` to fetch an environment variable.\n",
        "genai.configure(api_key=GOOGLE_API_KEY)\n",
        "\n",
        "model = genai.GenerativeModel('gemini-1.5-pro-latest')\n",
        "\n",
        "prompt_template = \"\"\"\n",
        "You are an artificial intelligence (AI) chatbot tool designed by Google to simulate human conversations using natural language processing (NLP) and machine learning.\n",
        "you can be integrat into websites, messaging platforms or applications to provide realistic, natural language responses to text_input questions.\n",
        "Keep your response around 2000 words in readable MS word format.\n",
        "\n",
        "'''\n",
        "{}\n",
        "'''\n",
        "\n",
        "\"\"\"\n",
        "\n",
        "# Define the function to be called when the button is clicked\n",
        "def on_button_click(b):\n",
        "    review = text_input.value\n",
        "    prompt = prompt_template.format(review)\n",
        "    response = model.generate_content(prompt)\n",
        "\n",
        "    output_display.clear_output()\n",
        "    with output_display:\n",
        "        # Assuming the response object has a 'text' attribute\n",
        "        prediction = response.text.strip()\n",
        "        display(HTML(f\"<br><strong>Query:    </strong>{review}\"))\n",
        "        display(HTML(f\"<br><strong>Response:    </strong>{prediction}\"))\n",
        "\n",
        "    text_input.value = ''  # Clear the input after submission\n",
        "\n",
        "# Create a text input widget\n",
        "text_input = widgets.Textarea(placeholder='Enter your Query here...',rows=5)\n",
        "\n",
        "# Create a button widget\n",
        "button = widgets.Button(description='Submit!')\n",
        "\n",
        "# Attach the function to the button click event\n",
        "button.on_click(on_button_click)\n",
        "\n",
        "# Create an output display widget\n",
        "output_display = widgets.Output()\n",
        "\n",
        "# Display the widgets\n",
        "display(text_input, button, output_display)"
      ]
    }
  ]
}